{
 "cells": [
  {
   "cell_type": "code",
   "execution_count": 56,
   "id": "831a76a4-e096-4d43-bccc-d3192f7e9389",
   "metadata": {},
   "outputs": [],
   "source": [
    "import pandas as pd\n",
    "import os\n",
    "import numpy as np\n",
    "from sklearn.model_selection import train_test_split\n",
    "from sklearn.linear_model import LinearRegression, Ridge, Lasso, ElasticNet\n",
    "from sklearn.preprocessing import StandardScaler\n",
    "from sklearn.decomposition import PCA\n",
    "from sklearn.cross_decomposition import PLSRegression\n",
    "from sklearn.ensemble import RandomForestRegressor\n",
    "from sklearn.metrics import mean_squared_error, r2_score\n",
    "\n",
    "os.chdir(r\"C:\\Users\\Sahana Dhandapani\\OneDrive\\Documents\")\n",
    "data=pd.read_excel(\"coded responses.xlsx\")"
   ]
  },
  {
   "cell_type": "code",
   "execution_count": 57,
   "id": "efa459c6-3c40-4e28-9d76-39359f6392cf",
   "metadata": {},
   "outputs": [
    {
     "name": "stdout",
     "output_type": "stream",
     "text": [
      "Unnamed: 0                   93\n",
      "Unnamed: 1                   93\n",
      "Department                    0\n",
      "Team                          0\n",
      "Position                      0\n",
      "Working condition             0\n",
      "T.Working condition           0\n",
      "C.Leadership                  0\n",
      "E.Leadership                  0\n",
      "career development            0\n",
      "co-workers                    0\n",
      "Training                      0\n",
      "Learning                      0\n",
      "problem solving               0\n",
      "Learning&dev                  0\n",
      "  conflicts                   0\n",
      "d.individual contribution     0\n",
      "d.target completion           0\n",
      "d.quality of work             0\n",
      "d.engagement&motivation       0\n",
      "dtype: int64\n"
     ]
    }
   ],
   "source": [
    "print(data.isnull().sum())"
   ]
  },
  {
   "cell_type": "code",
   "execution_count": 58,
   "id": "4c950002-b1e3-45f5-ba2f-9ad7c0547302",
   "metadata": {},
   "outputs": [],
   "source": [
    "data = data.drop(columns=['Unnamed: 0', 'Unnamed: 1'], errors='ignore')\n",
    "\n"
   ]
  },
  {
   "cell_type": "code",
   "execution_count": 59,
   "id": "52b0b6de-b532-4803-adb5-846ef47e8f88",
   "metadata": {},
   "outputs": [
    {
     "name": "stdout",
     "output_type": "stream",
     "text": [
      "Department                   0\n",
      "Team                         0\n",
      "Position                     0\n",
      "Working condition            0\n",
      "T.Working condition          0\n",
      "C.Leadership                 0\n",
      "E.Leadership                 0\n",
      "career development           0\n",
      "co-workers                   0\n",
      "Training                     0\n",
      "Learning                     0\n",
      "problem solving              0\n",
      "Learning&dev                 0\n",
      "  conflicts                  0\n",
      "d.individual contribution    0\n",
      "d.target completion          0\n",
      "d.quality of work            0\n",
      "d.engagement&motivation      0\n",
      "dtype: int64\n"
     ]
    }
   ],
   "source": [
    "print(data.isnull().sum())"
   ]
  },
  {
   "cell_type": "code",
   "execution_count": 60,
   "id": "7ebed627-3369-4e39-a9e6-abba5f7da93d",
   "metadata": {},
   "outputs": [],
   "source": [
    "data.columns = data.columns.str.strip()"
   ]
  },
  {
   "cell_type": "code",
   "execution_count": 12,
   "id": "a36d7723-12b7-45b6-8c04-c41fa79b1f6d",
   "metadata": {},
   "outputs": [
    {
     "name": "stdout",
     "output_type": "stream",
     "text": [
      "['Department', 'Team', 'Position', 'Working condition', 'T.Working condition', 'C.Leadership', 'E.Leadership', 'career development', 'co-workers', 'Training', 'Learning', 'problem solving', 'Learning&dev', 'conflicts', 'd.individual contribution', 'd.target completion', 'd.quality of work', 'd.engagement&motivation']\n"
     ]
    }
   ],
   "source": [
    "print(data.columns.tolist())"
   ]
  },
  {
   "cell_type": "code",
   "execution_count": 75,
   "id": "b4ea9cd9-1545-4bc8-bc10-a194d99e932c",
   "metadata": {},
   "outputs": [],
   "source": [
    "\n",
    "\n",
    "# Define Independent Variables (IVs) - Employee Utilization of Resources\n",
    "X = data[[\"Working condition\", \"E.Leadership\", \"career development\", \"co-workers\", \"Training\", \"Learning\"]]\n",
    "\n",
    "# Define Dependent Variables (DVs) - Employee Performance\n",
    "y1 = data[\"d.target completion\"]\n",
    "\n",
    "# Split data into training and testing sets (80% train, 20% test)\n",
    "X_train, X_test, y1_train, y1_test = train_test_split(X, y1, test_size=0.2, random_state=42)\n",
    "\n"
   ]
  },
  {
   "cell_type": "code",
   "execution_count": 76,
   "id": "b7b5d3ae-0e04-4339-bad3-1581242ec54c",
   "metadata": {},
   "outputs": [
    {
     "name": "stdout",
     "output_type": "stream",
     "text": [
      "Random Forest Regression for Target Completion:\n",
      "Mean Squared Error (MSE): 0.1706\n",
      "R-squared Score (R²): 0.1204\n",
      "\n"
     ]
    },
    {
     "data": {
      "image/png": "[encoded data removed]",
      "text/plain": [
       "<Figure size 800x500 with 1 Axes>"
      ]
     },
     "metadata": {},
     "output_type": "display_data"
    }
   ],
   "source": [
    "import seaborn as sns\n",
    "\n",
    "def train_random_forest(X_train, X_test, y_train, y_test, target_name):\n",
    "    # Initialize Random Forest Regressor\n",
    "    rf = RandomForestRegressor(n_estimators=100, random_state=42)\n",
    "    \n",
    "    # Train the model\n",
    "    rf.fit(X_train, y_train)\n",
    "    \n",
    "    # Make predictions\n",
    "    y_pred = rf.predict(X_test)\n",
    "    \n",
    "    \n",
    "    # Evaluate Model Performance\n",
    "    mse = mean_squared_error(y_test, y_pred)\n",
    "    r2 = r2_score(y_test, y_pred)\n",
    "    \n",
    "    print(f\"Random Forest Regression for {target_name}:\")\n",
    "    print(f\"Mean Squared Error (MSE): {mse:.4f}\")\n",
    "    print(f\"R-squared Score (R²): {r2:.4f}\\n\")\n",
    "    \n",
    "    # Feature Importance\n",
    "    feature_importance = pd.DataFrame({\"Feature\": X.columns, \"Importance\": rf.feature_importances_})\n",
    "    feature_importance = feature_importance.sort_values(by=\"Importance\", ascending=False)\n",
    "\n",
    "    # Plot Feature Importance\n",
    "    plt.figure(figsize=(8, 5))\n",
    "    sns.barplot(x=feature_importance[\"Importance\"], y=feature_importance[\"Feature\"], color=\"skyblue\")\n",
    "    plt.xlabel(\"Importance Score\")\n",
    "    plt.ylabel(\"Features\")\n",
    "    plt.title(f\"Feature Importance for {target_name} (Random Forest)\")\n",
    "    plt.show()\n",
    "\n",
    "    return rf\n",
    "\n",
    "# Train Random Forest for Each Dependent Variable\n",
    "rf_target_completion = train_random_forest(X_train, X_test, y1_train, y1_test, \"Target Completion\")"
   ]
  },
  {
   "cell_type": "code",
   "execution_count": null,
   "id": "e302cd07-bb62-40ff-8983-be12a4383b29",
   "metadata": {},
   "outputs": [],
   "source": []
  }
 ],
 "metadata": {
  "kernelspec": {
   "display_name": "Python 3 (ipykernel)",
   "language": "python",
   "name": "python3"
  },
  "language_info": {
   "codemirror_mode": {
    "name": "ipython",
    "version": 3
   },
   "file_extension": ".py",
   "mimetype": "text/x-python",
   "name": "python",
   "nbconvert_exporter": "python",
   "pygments_lexer": "ipython3",
   "version": "3.13.1"
  }
 },
 "nbformat": 4,
 "nbformat_minor": 5
}
